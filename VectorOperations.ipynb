{
  "nbformat": 4,
  "nbformat_minor": 0,
  "metadata": {
    "colab": {
      "provenance": [],
      "authorship_tag": "ABX9TyPegwnrkLZG2+1Pgzbohfx3",
      "include_colab_link": true
    },
    "kernelspec": {
      "name": "python3",
      "display_name": "Python 3"
    },
    "language_info": {
      "name": "python"
    }
  },
  "cells": [
    {
      "cell_type": "markdown",
      "metadata": {
        "id": "view-in-github",
        "colab_type": "text"
      },
      "source": [
        "<a href=\"https://colab.research.google.com/github/SirGsusFreak/JupyterNotebooks/blob/main/VectorOperations.ipynb\" target=\"_parent\"><img src=\"https://colab.research.google.com/assets/colab-badge.svg\" alt=\"Open In Colab\"/></a>"
      ]
    },
    {
      "cell_type": "markdown",
      "source": [
        "# Vector Operations Exercises\n",
        "---"
      ],
      "metadata": {
        "id": "CuXxeIumFHPn"
      }
    },
    {
      "cell_type": "markdown",
      "source": [
        "## NumPy Exercise 1\n",
        "---"
      ],
      "metadata": {
        "id": "yjwqnnuDFNKw"
      }
    },
    {
      "cell_type": "markdown",
      "source": [
        "<p>Use vectorized numpy operations to calculate standard deviation\n",
        "\n",
        "$$\n",
        "\\sigma = \\sqrt{ \\sum_{i=1..N} ( x_i - \\mu )^2 / ( N - 1 ) }\n",
        "$$\n",
        "\n",
        "where $N$ is the number of elements in $\\vec{x}$ and $\\mu$ is its mean.</p>"
      ],
      "metadata": {
        "id": "ddwsPl9MFSr_"
      }
    },
    {
      "cell_type": "code",
      "source": [
        "import numpy as np"
      ],
      "metadata": {
        "id": "aYBD6ONvGVb7"
      },
      "execution_count": 1,
      "outputs": []
    },
    {
      "cell_type": "code",
      "source": [
        "X = np.array([1, 2, 3, 4, 5])\n",
        "mu = np.mean(X)\n",
        "squared_diff = (X - mu)**2\n",
        "variance = np.sum(squared_diff) / (len(X) - 1)\n",
        "sigma = np.sqrt(variance)\n",
        "sigma"
      ],
      "metadata": {
        "colab": {
          "base_uri": "https://localhost:8080/"
        },
        "id": "Xg9lMkboGWao",
        "outputId": "7fc8d339-db53-4f56-8303-feac878bdaf3"
      },
      "execution_count": 30,
      "outputs": [
        {
          "output_type": "execute_result",
          "data": {
            "text/plain": [
              "1.5811388300841898"
            ]
          },
          "metadata": {},
          "execution_count": 30
        }
      ]
    },
    {
      "cell_type": "markdown",
      "source": [
        "or"
      ],
      "metadata": {
        "id": "b-ty97sBGaS9"
      }
    },
    {
      "cell_type": "code",
      "source": [
        "sigma_sample = np.std(X, ddof=1)\n",
        "sigma_sample"
      ],
      "metadata": {
        "colab": {
          "base_uri": "https://localhost:8080/"
        },
        "id": "SvoJ5TCuGdZI",
        "outputId": "f7fc8021-f9ba-495d-ce19-fa61db44e2e2"
      },
      "execution_count": 31,
      "outputs": [
        {
          "output_type": "execute_result",
          "data": {
            "text/plain": [
              "1.5811388300841898"
            ]
          },
          "metadata": {},
          "execution_count": 31
        }
      ]
    },
    {
      "cell_type": "markdown",
      "source": [
        "## NumPy Exercise 2\n",
        "---"
      ],
      "metadata": {
        "id": "-TIzaX8FH4Yj"
      }
    },
    {
      "cell_type": "markdown",
      "source": [
        "<p>Use the dot product to calculate total miles covered by all cars:</p>\n",
        "\n",
        "- **road_miles** gives a list of different road segments and their lenght in miles.\n",
        "- **cars_roads** give the number of cars that passed on each of the road segments.\n",
        "\n",
        "Example:\n",
        "```\n",
        "road_miles = [108, 5, 10, 52]\n",
        "cars_roads = [543, 433, 104, 390]\n",
        "```"
      ],
      "metadata": {
        "id": "CiZr6dpbIFwl"
      }
    },
    {
      "cell_type": "code",
      "source": [
        "import numpy as np"
      ],
      "metadata": {
        "id": "NX_AT_-SIDWA"
      },
      "execution_count": 4,
      "outputs": []
    },
    {
      "cell_type": "code",
      "source": [
        "road_miles = [108, 5, 10, 52]\n",
        "cars_roads = [543, 433, 104, 390]"
      ],
      "metadata": {
        "id": "Pbe1WzvnIcpc"
      },
      "execution_count": 5,
      "outputs": []
    },
    {
      "cell_type": "code",
      "source": [
        "road_miles_array = np.array(road_miles)\n",
        "cars_roads_array = np.array(cars_roads)\n",
        "\n",
        "total_miles_covered = np.dot(road_miles_array, cars_roads_array)\n",
        "\n",
        "print(\"Total miles covered by all cars:\")\n",
        "total_miles_covered"
      ],
      "metadata": {
        "colab": {
          "base_uri": "https://localhost:8080/"
        },
        "id": "77P89-pzIlyI",
        "outputId": "5515d1f3-7b52-4047-d548-a8aa726910f7"
      },
      "execution_count": 35,
      "outputs": [
        {
          "output_type": "stream",
          "name": "stdout",
          "text": [
            "Total miles covered by all cars:\n"
          ]
        },
        {
          "output_type": "execute_result",
          "data": {
            "text/plain": [
              "82129"
            ]
          },
          "metadata": {},
          "execution_count": 35
        }
      ]
    },
    {
      "cell_type": "markdown",
      "source": [
        "## NUMPY EXERCISE 3\n",
        "---"
      ],
      "metadata": {
        "id": "tBi1Nh_9JhGB"
      }
    },
    {
      "cell_type": "markdown",
      "source": [
        "<p>We expect the population to increase by 3% every year. Make a matrix of predictions for each county for the next three years by using:</p>\n",
        "\n",
        "- **ga_population** is a list of population numbers (in thousands) for each county.\n",
        "\n",
        "Example:\n",
        "\n",
        "```\n",
        "# dekalb, fulton, gwinnett\n",
        "ga_population = [757, 1065, 964]\n",
        "```"
      ],
      "metadata": {
        "id": "g0vEESaPJ0Xh"
      }
    },
    {
      "cell_type": "code",
      "source": [
        "import numpy as np"
      ],
      "metadata": {
        "id": "jyOX9pffKv4C"
      },
      "execution_count": 15,
      "outputs": []
    },
    {
      "cell_type": "code",
      "source": [
        "ga_population = np.array([757, 1065, 964])\n",
        "year_preds = 1.03 ** np.array([1,2,3])\n",
        "\n",
        "population_preds = np.outer(year_preds, ga_population)\n",
        "\n",
        "print(\"Yearly Predictions:\")\n",
        "print(population_preds)"
      ],
      "metadata": {
        "colab": {
          "base_uri": "https://localhost:8080/"
        },
        "id": "bbjbWVt1Kz3y",
        "outputId": "8804468a-0823-494d-d36a-20ee966f73f6"
      },
      "execution_count": 72,
      "outputs": [
        {
          "output_type": "stream",
          "name": "stdout",
          "text": [
            "Yearly Predictions:\n",
            "[[ 779.71     1096.95      992.92    ]\n",
            " [ 803.1013   1129.8585   1022.7076  ]\n",
            " [ 827.194339 1163.754255 1053.388828]]\n"
          ]
        }
      ]
    }
  ]
}